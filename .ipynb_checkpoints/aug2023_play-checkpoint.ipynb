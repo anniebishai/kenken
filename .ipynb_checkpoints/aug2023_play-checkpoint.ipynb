{
 "cells": [
  {
   "cell_type": "code",
   "execution_count": 1,
   "id": "6067daf2-79a6-4adf-a1f0-f5fadc90c01b",
   "metadata": {},
   "outputs": [],
   "source": [
    "import numpy as np\n",
    "import pandas as pd"
   ]
  },
  {
   "cell_type": "code",
   "execution_count": 32,
   "id": "6caf5c01-a077-4db7-81c4-9b4b0cd2e5ac",
   "metadata": {},
   "outputs": [],
   "source": [
    "array = [[1,2,3,4],\n",
    "         [5,6,7,8],\n",
    "         [9,10,11,12],\n",
    "        [13,14,15,16]]\n"
   ]
  },
  {
   "cell_type": "code",
   "execution_count": 34,
   "id": "6c6db5b9-05e2-412f-9100-df8fe6ade3c5",
   "metadata": {},
   "outputs": [],
   "source": [
    "array = [[1,2,3,4,5],\n",
    "         [1,2,3,4,5],\n",
    "         [1,2,3,4,5],\n",
    "         [1,2,3,4,5],\n",
    "         [1,2,3,4,5]\n",
    "        ]"
   ]
  },
  {
   "cell_type": "code",
   "execution_count": null,
   "id": "23cf5e0b-6fd4-47c5-a181-5ced2714d84e",
   "metadata": {},
   "outputs": [],
   "source": [
    "[1, 2, 3, 4, 5, 5, 5, 5, 5, 4, 3, 2, 1, 1, 1, 1, 2, 3, 4, 4, 4, 3, 2, 2, 3]"
   ]
  },
  {
   "cell_type": "code",
   "execution_count": null,
   "id": "422b05ef-a9b5-4566-8f81-f63f2b9caf2f",
   "metadata": {
    "jupyter": {
     "source_hidden": true
    },
    "tags": []
   },
   "outputs": [],
   "source": [
    "array = [[1,2,3,4,5]\n",
    "         [1,2,3,4,5]\n",
    "         [1,2,3,4,5]\n",
    "         [1,2,3,4,5]\n",
    "         [1,2,3,4,5]\n",
    "]"
   ]
  },
  {
   "cell_type": "code",
   "execution_count": 37,
   "id": "ad6e5991-aec1-4b4b-9307-c0c70ac2efde",
   "metadata": {
    "tags": []
   },
   "outputs": [],
   "source": [
    "def snail(array):\n",
    "    l = len(array)\n",
    "    array_len = l*l\n",
    "    snail = []\n",
    "    a = 0\n",
    "    while len(snail) < array_len:\n",
    "        k = list(range(a, l-a)) ## for a=0, this only works if k = list(range(l))\n",
    "        k.reverse()\n",
    "        print(f'a = {a}, k = {k}')\n",
    "\n",
    "        for n in range(a, l+1):\n",
    "            print(f'n = {n}')\n",
    "            if n == a:\n",
    "                print('top')\n",
    "                for m in range(a, l-a):\n",
    "                    print(f'm = {m}')\n",
    "                    snail.append(array[n][m])\n",
    "                    print(snail)\n",
    "                if len(snail) == array_len:\n",
    "                    break\n",
    "            if a < n < l-a-1: \n",
    "                print('right side, downward -- stop one before bottom')\n",
    "                snail.append(array[n+a][l-a-1])\n",
    "                print(snail)\n",
    "                if len(snail) == array_len:\n",
    "                    break\n",
    "            if n == l-a-1:\n",
    "                print('bottom, reverse')\n",
    "                for m in k:\n",
    "                    print(f'm = {m}')\n",
    "                    snail.append(array[n][m])\n",
    "                    print(snail)\n",
    "                    if len(snail) == array_len:\n",
    "                        break\n",
    "            if n == l-a:\n",
    "                print('left side, upward -- start one above bottom')\n",
    "                for u in k[a+1:l-a-1]:\n",
    "                    snail.append(array[u][a])\n",
    "                    print(snail)\n",
    "                if len(snail) == array_len:\n",
    "                    break    \n",
    "                else: a += 1\n",
    "    return snail"
   ]
  },
  {
   "cell_type": "code",
   "execution_count": 38,
   "id": "5a28ab2f-a145-497f-b401-bfc5dd1f350e",
   "metadata": {},
   "outputs": [
    {
     "name": "stdout",
     "output_type": "stream",
     "text": [
      "a = 0, k = [4, 3, 2, 1, 0]\n",
      "n = 0\n",
      "top\n",
      "m = 0\n",
      "[1]\n",
      "m = 1\n",
      "[1, 2]\n",
      "m = 2\n",
      "[1, 2, 3]\n",
      "m = 3\n",
      "[1, 2, 3, 4]\n",
      "m = 4\n",
      "[1, 2, 3, 4, 5]\n",
      "n = 1\n",
      "right side, downward -- stop one before bottom\n",
      "[1, 2, 3, 4, 5, 5]\n",
      "n = 2\n",
      "right side, downward -- stop one before bottom\n",
      "[1, 2, 3, 4, 5, 5, 5]\n",
      "n = 3\n",
      "right side, downward -- stop one before bottom\n",
      "[1, 2, 3, 4, 5, 5, 5, 5]\n",
      "n = 4\n",
      "bottom, reverse\n",
      "m = 4\n",
      "[1, 2, 3, 4, 5, 5, 5, 5, 5]\n",
      "m = 3\n",
      "[1, 2, 3, 4, 5, 5, 5, 5, 5, 4]\n",
      "m = 2\n",
      "[1, 2, 3, 4, 5, 5, 5, 5, 5, 4, 3]\n",
      "m = 1\n",
      "[1, 2, 3, 4, 5, 5, 5, 5, 5, 4, 3, 2]\n",
      "m = 0\n",
      "[1, 2, 3, 4, 5, 5, 5, 5, 5, 4, 3, 2, 1]\n",
      "n = 5\n",
      "left side, upward -- start one above bottom\n",
      "[1, 2, 3, 4, 5, 5, 5, 5, 5, 4, 3, 2, 1, 1]\n",
      "[1, 2, 3, 4, 5, 5, 5, 5, 5, 4, 3, 2, 1, 1, 1]\n",
      "[1, 2, 3, 4, 5, 5, 5, 5, 5, 4, 3, 2, 1, 1, 1, 1]\n",
      "a = 1, k = [3, 2, 1]\n",
      "n = 1\n",
      "top\n",
      "m = 1\n",
      "[1, 2, 3, 4, 5, 5, 5, 5, 5, 4, 3, 2, 1, 1, 1, 1, 2]\n",
      "m = 2\n",
      "[1, 2, 3, 4, 5, 5, 5, 5, 5, 4, 3, 2, 1, 1, 1, 1, 2, 3]\n",
      "m = 3\n",
      "[1, 2, 3, 4, 5, 5, 5, 5, 5, 4, 3, 2, 1, 1, 1, 1, 2, 3, 4]\n",
      "n = 2\n",
      "right side, downward -- stop one before bottom\n",
      "[1, 2, 3, 4, 5, 5, 5, 5, 5, 4, 3, 2, 1, 1, 1, 1, 2, 3, 4, 4]\n",
      "n = 3\n",
      "bottom, reverse\n",
      "m = 3\n",
      "[1, 2, 3, 4, 5, 5, 5, 5, 5, 4, 3, 2, 1, 1, 1, 1, 2, 3, 4, 4, 4]\n",
      "m = 2\n",
      "[1, 2, 3, 4, 5, 5, 5, 5, 5, 4, 3, 2, 1, 1, 1, 1, 2, 3, 4, 4, 4, 3]\n",
      "m = 1\n",
      "[1, 2, 3, 4, 5, 5, 5, 5, 5, 4, 3, 2, 1, 1, 1, 1, 2, 3, 4, 4, 4, 3, 2]\n",
      "n = 4\n",
      "left side, upward -- start one above bottom\n",
      "[1, 2, 3, 4, 5, 5, 5, 5, 5, 4, 3, 2, 1, 1, 1, 1, 2, 3, 4, 4, 4, 3, 2, 2]\n",
      "n = 5\n",
      "a = 2, k = [2]\n",
      "n = 2\n",
      "top\n",
      "m = 2\n",
      "[1, 2, 3, 4, 5, 5, 5, 5, 5, 4, 3, 2, 1, 1, 1, 1, 2, 3, 4, 4, 4, 3, 2, 2, 3]\n"
     ]
    },
    {
     "data": {
      "text/plain": [
       "[1, 2, 3, 4, 5, 5, 5, 5, 5, 4, 3, 2, 1, 1, 1, 1, 2, 3, 4, 4, 4, 3, 2, 2, 3]"
      ]
     },
     "execution_count": 38,
     "metadata": {},
     "output_type": "execute_result"
    }
   ],
   "source": [
    "snail(array)"
   ]
  },
  {
   "cell_type": "code",
   "execution_count": 20,
   "id": "dd4c392c-a4dc-4474-8d5c-8676e8755afc",
   "metadata": {
    "tags": []
   },
   "outputs": [],
   "source": [
    "##KEEP THIS ONE INTACT\n",
    "\n",
    "def snail(array):\n",
    "    l = len(array)\n",
    "    snail = []\n",
    "\n",
    "    for a in range(l-2): ## stops too soon\n",
    "        k = list(range(a, l-a)) ## for a=0, this only works if k = list(range(l))\n",
    "        k.reverse()\n",
    "       # print(f'a = {a}, k = {k}')\n",
    "\n",
    "        for n in range(a, l+1):\n",
    "           # print(f'n = {n}')\n",
    "            if n == a:\n",
    "               # print('top')\n",
    "                for m in range(a, l-a):\n",
    "               #     print(m)\n",
    "                    snail.append(array[n][m])\n",
    "                #    print(snail)\n",
    "            if a < n < l-a-1: \n",
    "               # print('right side, downward -- stop one before bottom')\n",
    "                snail.append(array[n+a][l-a-1])\n",
    "               # print(snail)\n",
    "            if n == l-a-1:\n",
    "                #print('bottom, reverse')\n",
    "                for m in k:\n",
    "                #    print(f'm = {m}')\n",
    "                    snail.append(array[n][m])\n",
    "                #    print(snail)\n",
    "            if n == l-a:\n",
    "               # print('left side, upward -- start one above bottom')\n",
    "                for u in k[a+1:l-a-1]:\n",
    "                    snail.append(array[u][a])\n",
    "                   # print(snail)\n",
    "                a += 1\n",
    "    return snail"
   ]
  },
  {
   "cell_type": "code",
   "execution_count": 21,
   "id": "f7a96705-38a4-4136-bee8-00d1c76b76ad",
   "metadata": {},
   "outputs": [
    {
     "data": {
      "text/plain": [
       "[1, 2, 3, 4, 8, 12, 16, 15, 14, 13, 9, 5, 6, 7, 11, 10]"
      ]
     },
     "execution_count": 21,
     "metadata": {},
     "output_type": "execute_result"
    }
   ],
   "source": [
    "snail(array)"
   ]
  },
  {
   "cell_type": "code",
   "execution_count": 70,
   "id": "9ebd2d0a-80cd-45a1-8ff0-82215daeb0ec",
   "metadata": {},
   "outputs": [
    {
     "data": {
      "text/plain": [
       "3"
      ]
     },
     "execution_count": 70,
     "metadata": {},
     "output_type": "execute_result"
    }
   ],
   "source": [
    "def snail(array):\n",
    "    l = len(array)\n",
    "    snail = []\n",
    "\n",
    "    for a in range(l-2):\n",
    "        k = list(range(a, l-a)) ## for a=0, this only works if k = list(range(l))\n",
    "        k.reverse()\n",
    "\n",
    "        for n in range(a, l+1):\n",
    "            print(f'n = {n}')\n",
    "            if n == a:\n",
    "                for m in range(a, l-a):\n",
    "                    snail.append(array[n][m])\n",
    "            if a < n < l-a-1: \n",
    "                #print('right side, downward -- stop one before bottom')\n",
    "                snail.append(array[n+a][l-a-1])\n",
    "                print(snail)\n",
    "            if n == l-a-1:\n",
    "                print('bottom, reverse')\n",
    "                for m in k:\n",
    "                    print(f'm = {m}')\n",
    "                    snail.append(array[n][m])\n",
    "                    print(snail)\n",
    "            if n == l-a:\n",
    "                print('left side, upward -- start one above bottom')\n",
    "                for u in k[a+1:l-a-1]:\n",
    "                    snail.append(array[u][a])\n",
    "                print(snail)\n",
    "        #if a < l-2:    \n",
    "            a += 1\n",
    "\n",
    "    return snail"
   ]
  },
  {
   "cell_type": "code",
   "execution_count": 62,
   "id": "aded2bce-7024-4148-8b46-05d2bdd9862e",
   "metadata": {},
   "outputs": [
    {
     "data": {
      "text/plain": [
       "[1]"
      ]
     },
     "execution_count": 62,
     "metadata": {},
     "output_type": "execute_result"
    }
   ],
   "source": [
    "k[1:-1]"
   ]
  },
  {
   "cell_type": "code",
   "execution_count": 53,
   "id": "e25d58a3-2836-44b1-861e-da5bf5cc9f68",
   "metadata": {},
   "outputs": [
    {
     "name": "stdout",
     "output_type": "stream",
     "text": [
      "[1, 2, 3]\n",
      "[4, 5, 6]\n",
      "[7, 8, 9]\n"
     ]
    }
   ],
   "source": [
    "l = len(array)\n",
    "for n in range(l):\n",
    "    print(array[n])"
   ]
  },
  {
   "cell_type": "code",
   "execution_count": 7,
   "id": "30472f50-7cf3-4fa9-8fa8-a2e219d96460",
   "metadata": {},
   "outputs": [],
   "source": [
    "for c in array:\n",
    "    last = c[n-1]\n",
    "    first = c[0]\n"
   ]
  },
  {
   "cell_type": "code",
   "execution_count": 35,
   "id": "c35b07f5-5e84-4ed7-8ac6-287e2f248d9d",
   "metadata": {},
   "outputs": [],
   "source": [
    "l = 3\n",
    "k = (list(range(l)))\n",
    "k.reverse()"
   ]
  },
  {
   "cell_type": "code",
   "execution_count": 36,
   "id": "71336049-b441-4628-980d-f8c8deaef1d1",
   "metadata": {},
   "outputs": [
    {
     "data": {
      "text/plain": [
       "[2, 1, 0]"
      ]
     },
     "execution_count": 36,
     "metadata": {},
     "output_type": "execute_result"
    }
   ],
   "source": [
    "k"
   ]
  },
  {
   "cell_type": "code",
   "execution_count": null,
   "id": "4775fdcf-6b98-4ee8-9af5-a42e99debfac",
   "metadata": {},
   "outputs": [],
   "source": [
    "def snail(snail_map)\n",
    "\n",
    "n = len(snail_map)\n",
    "a = snail_map[0]\n",
    "b = snail_map[n-1]\n",
    "\n",
    "return [a]"
   ]
  }
 ],
 "metadata": {
  "kernelspec": {
   "display_name": "Python 3 (ipykernel)",
   "language": "python",
   "name": "python3"
  },
  "language_info": {
   "codemirror_mode": {
    "name": "ipython",
    "version": 3
   },
   "file_extension": ".py",
   "mimetype": "text/x-python",
   "name": "python",
   "nbconvert_exporter": "python",
   "pygments_lexer": "ipython3",
   "version": "3.9.7"
  }
 },
 "nbformat": 4,
 "nbformat_minor": 5
}
