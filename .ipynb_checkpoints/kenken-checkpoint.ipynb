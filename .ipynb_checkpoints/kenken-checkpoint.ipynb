{
 "cells": [
  {
   "cell_type": "code",
   "execution_count": 4,
   "id": "602b0577-df2f-43d7-88f6-5d58257d22dd",
   "metadata": {},
   "outputs": [],
   "source": [
    "import numpy as np\n",
    "import pandas as pd"
   ]
  },
  {
   "cell_type": "markdown",
   "id": "992dec18-2bbb-4677-8d9a-d62e0917244b",
   "metadata": {},
   "source": [
    "## 1. Write functions to generate all valid combinations of two, three, and four numbers (1-7) and their possible KenKen clues.\n",
    "**For a two-number section, a clue can be +, -, \\*, or /**\n",
    "\n",
    "\n",
    "**For a three- or four-number section, a clue can only be + or \\***\n",
    "\n",
    "\n",
    "**In a three- or four-number section, one number can be repeated.**"
   ]
  },
  {
   "cell_type": "code",
   "execution_count": 210,
   "id": "3a4f2f08-2ae4-4e4e-8932-47a815fda260",
   "metadata": {},
   "outputs": [],
   "source": [
    "kenken = np.array(range(1,8))\n",
    "nums_b = np.array(range(1,8))\n",
    "nums_c = np.array(range(1,8))\n",
    "nums_d = np.array(range(1,8))"
   ]
  },
  {
   "cell_type": "code",
   "execution_count": 203,
   "id": "56757b3f-642b-4d5b-9242-9d04ea3a1efc",
   "metadata": {},
   "outputs": [],
   "source": [
    "## Output will be a list of sums, a list of products, a list of differences, and a list of quotients.\n",
    "\n",
    "## Any pair of different numbers can be added, multiplied, or subtracted. The list of possible pairs for division is smaller.\n",
    "\n",
    "def pairs_addsubmult(l):\n",
    "    pairs = []\n",
    "    for n in l:\n",
    "        for b in nums_b:\n",
    "            pair = [n,b]\n",
    "            if b > n and sorted(pair) not in pairs: #use > instead of != for ease later with subtraction list\n",
    "                pairs.append(sorted(pair))\n",
    "    return pairs\n",
    "    \n",
    "def twos_add(l):\n",
    "    pairs = pairs_addsubmult(l)\n",
    "    return [n+b for [n,b] in pairs]\n",
    "\n",
    "def twos_mult(l):\n",
    "    pairs = pairs_addsubmult(l)\n",
    "    return [n*b for [n,b] in pairs]\n",
    "    \n",
    "def twos_sub(l):\n",
    "    pairs = pairs_addsubmult(l)\n",
    "    return [b-n for [n,b] in pairs]\n",
    "                \n",
    "def twos_div(l):\n",
    "    pairs = pairs_addsubmult(l)\n",
    "    return [int(b/n) for [n,b] in pairs if b%n == 0]"
   ]
  },
  {
   "cell_type": "code",
   "execution_count": 211,
   "id": "bb1f7332-c78a-48f6-a6c3-30f01b962a33",
   "metadata": {},
   "outputs": [
    {
     "data": {
      "text/plain": [
       "[2, 3, 4, 5, 6, 7, 2, 3, 2]"
      ]
     },
     "execution_count": 211,
     "metadata": {},
     "output_type": "execute_result"
    }
   ],
   "source": [
    "twos_div(kenken)\n",
    "#print(f'add length: {len(twos_add)}, mult length: {len(twos_mult)}, sub length: {len(twos_sub)}, div len: {len(twos_div)}')"
   ]
  },
  {
   "cell_type": "code",
   "execution_count": 206,
   "id": "bfd21152-7325-4c66-bc7c-a4ce6fffd59b",
   "metadata": {},
   "outputs": [],
   "source": [
    "## Output will be a list of sums and a list of products\n",
    "\n",
    "def triplets(l):\n",
    "    triplets = []\n",
    "    for n in l:\n",
    "        for b in nums_b:\n",
    "            for c in nums_c:\n",
    "                triplet = [n,b,c]\n",
    "                if len(set(triplet)) < 2:\n",
    "                    continue\n",
    "                else: \n",
    "                    if sorted(triplet) not in triplets:\n",
    "                        triplets.append(sorted(triplet))\n",
    "    return triplets\n",
    "\n",
    "def threes_add(l):\n",
    "    trip = triplets(l)\n",
    "    return [n+b+c for [n,b,c] in trip]\n",
    "\n",
    "def threes_mult(l): \n",
    "    trip = triplets(l)\n",
    "    return [n*b*c for [n,b,c] in trip] "
   ]
  },
  {
   "cell_type": "code",
   "execution_count": 212,
   "id": "cbd34bd3-ce6b-4547-bc29-37038332a133",
   "metadata": {},
   "outputs": [],
   "source": [
    "## Output will be a list of sums and a list of products\n",
    "\n",
    "def quads(l):\n",
    "    quads = []\n",
    "    for n in l:\n",
    "        for b in nums_b:\n",
    "            for c in nums_c:\n",
    "                for d in nums_d:\n",
    "                    quad = [n,b,c,d]\n",
    "                    cts = [quad.count(x) for x in quad]\n",
    "                    if 3 in cts or 4 in cts:\n",
    "                        continue\n",
    "                    else: \n",
    "                        if sorted(quad) not in quads:\n",
    "                            quads.append(sorted(quad))\n",
    "    return quads\n",
    "                            \n",
    "def quads_add(l):\n",
    "    quads = quads(l)\n",
    "    return [n+b+c+d for [n,b,c,d] in quads]\n",
    "\n",
    "def quads_mult(l):\n",
    "    quads = quads(l)\n",
    "    return [n*b*c*d for [n,b,c,d] in quads]"
   ]
  },
  {
   "cell_type": "markdown",
   "id": "07a3952d-2da3-4cf0-b44f-cbb8e12765fa",
   "metadata": {
    "tags": []
   },
   "source": [
    "## 2. Convert each list to a dictionary of unique values and their frequency in the list"
   ]
  },
  {
   "cell_type": "code",
   "execution_count": 180,
   "id": "66c37675-b3fe-427a-9440-818eb21de6a2",
   "metadata": {},
   "outputs": [],
   "source": [
    "twos_add = twos(base_nums)[0]\n",
    "twos_mult = twos(base_nums)[1]\n",
    "twos_sub = twos(base_nums)[2]\n",
    "twos_div = twos(base_nums)[3]"
   ]
  },
  {
   "cell_type": "code",
   "execution_count": 173,
   "id": "f3627fff-dac1-42b8-a116-a7a6bbb073e8",
   "metadata": {},
   "outputs": [
    {
     "data": {
      "text/plain": [
       "336"
      ]
     },
     "execution_count": 173,
     "metadata": {},
     "output_type": "execute_result"
    }
   ],
   "source": [
    "len(twos(base_nums)[0])"
   ]
  },
  {
   "cell_type": "code",
   "execution_count": 182,
   "id": "92090f47-e748-4833-9e2e-841c9e0d7d3f",
   "metadata": {},
   "outputs": [
    {
     "data": {
      "text/plain": [
       "210"
      ]
     },
     "execution_count": 182,
     "metadata": {},
     "output_type": "execute_result"
    }
   ],
   "source": [
    "len(twos_add)"
   ]
  },
  {
   "cell_type": "code",
   "execution_count": null,
   "id": "ebce5eac-b03f-420c-a3aa-176a76b5dfa3",
   "metadata": {},
   "outputs": [],
   "source": []
  }
 ],
 "metadata": {
  "kernelspec": {
   "display_name": "Python 3 (ipykernel)",
   "language": "python",
   "name": "python3"
  },
  "language_info": {
   "codemirror_mode": {
    "name": "ipython",
    "version": 3
   },
   "file_extension": ".py",
   "mimetype": "text/x-python",
   "name": "python",
   "nbconvert_exporter": "python",
   "pygments_lexer": "ipython3",
   "version": "3.9.7"
  }
 },
 "nbformat": 4,
 "nbformat_minor": 5
}
